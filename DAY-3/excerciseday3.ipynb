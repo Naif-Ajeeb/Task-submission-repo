{
 "cells": [
  {
   "cell_type": "code",
   "execution_count": null,
   "id": "7de384c4",
   "metadata": {},
   "outputs": [
    {
     "name": "stdout",
     "output_type": "stream",
     "text": [
      "10\n",
      "5\n"
     ]
    }
   ],
   "source": [
    "print(5 + 5)\n",
    "print(9 - 4)"
   ]
  },
  {
   "cell_type": "code",
   "execution_count": null,
   "id": "a7f99c72",
   "metadata": {},
   "outputs": [
    {
     "name": "stdout",
     "output_type": "stream",
     "text": [
      "my age is:40\n",
      "my age is: 40\n"
     ]
    }
   ],
   "source": [
    "print(\"my age is:\" + \"40\")\n",
    "print(\"my age is:\", 40)"
   ]
  },
  {
   "cell_type": "code",
   "execution_count": null,
   "id": "b8686697",
   "metadata": {},
   "outputs": [
    {
     "name": "stdout",
     "output_type": "stream",
     "text": [
      "5120\n"
     ]
    }
   ],
   "source": [
    "x = 5\n",
    "# shifting a number to the left by 1 bit is equivalent to multiplying it by 2 (only applicable to binary system)\n",
    "# shifting a number to the left by 2 bits is equivalent to multiplying it by 4\n",
    "# shifting a number to the left by 3 bits is equivalent to multiplying it by 8\n",
    "# as for the decimal system, shifting a number to the left by 1 bit is equivalent to multiplying it by 10 (the base of the decimal system)\n",
    "# shifting a number to the left by 2 bits in the decimal system is equivalent to multiplying it by 100\n",
    "y = x << 10\n",
    "print(y)"
   ]
  },
  {
   "cell_type": "code",
   "execution_count": 4,
   "id": "3eb896ce",
   "metadata": {},
   "outputs": [],
   "source": [
    "name = input(\"Enter your name: \")"
   ]
  },
  {
   "cell_type": "code",
   "execution_count": 5,
   "id": "d11920b2",
   "metadata": {},
   "outputs": [
    {
     "data": {
      "text/plain": [
       "'Naif'"
      ]
     },
     "execution_count": 5,
     "metadata": {},
     "output_type": "execute_result"
    }
   ],
   "source": [
    "name"
   ]
  },
  {
   "cell_type": "code",
   "execution_count": null,
   "id": "37a37608",
   "metadata": {},
   "outputs": [
    {
     "name": "stdout",
     "output_type": "stream",
     "text": [
      "welcome Naif to the world of programming\n"
     ]
    }
   ],
   "source": [
    "print(\"welcome\", name, \"to the world of programming\")"
   ]
  },
  {
   "cell_type": "code",
   "execution_count": null,
   "id": "cad93878",
   "metadata": {},
   "outputs": [
    {
     "name": "stdout",
     "output_type": "stream",
     "text": [
      "wrong password\n"
     ]
    }
   ],
   "source": [
    "password = input(\"Enter password: \")\n",
    "if password == \"DS\":\n",
    "    print(\"welcome to the course\")\n",
    "else:\n",
    "    print(\"wrong password\")"
   ]
  },
  {
   "cell_type": "code",
   "execution_count": null,
   "id": "432316ee",
   "metadata": {},
   "outputs": [
    {
     "name": "stdout",
     "output_type": "stream",
     "text": [
      "Welcome Naif Ajeeb to the world of programming\n",
      "Welcome Naif Ajeeb to the world of programming\n"
     ]
    }
   ],
   "source": [
    "first_name = input(\"Enter your first name: \")\n",
    "last_name = input(\"Enter your last name: \")\n",
    "print(\"Welcome\", first_name, last_name, \"to the world of programming\")"
   ]
  },
  {
   "cell_type": "code",
   "execution_count": 13,
   "id": "3abc87c3",
   "metadata": {},
   "outputs": [
    {
     "data": {
      "text/plain": [
       "int"
      ]
     },
     "execution_count": 13,
     "metadata": {},
     "output_type": "execute_result"
    }
   ],
   "source": [
    "type(10)"
   ]
  },
  {
   "cell_type": "code",
   "execution_count": 14,
   "id": "71255c1d",
   "metadata": {},
   "outputs": [
    {
     "data": {
      "text/plain": [
       "float"
      ]
     },
     "execution_count": 14,
     "metadata": {},
     "output_type": "execute_result"
    }
   ],
   "source": [
    "type(10.5)"
   ]
  },
  {
   "cell_type": "code",
   "execution_count": 12,
   "id": "74bb8a62",
   "metadata": {},
   "outputs": [
    {
     "data": {
      "text/plain": [
       "str"
      ]
     },
     "execution_count": 12,
     "metadata": {},
     "output_type": "execute_result"
    }
   ],
   "source": [
    "type(\"ALice\")"
   ]
  },
  {
   "cell_type": "code",
   "execution_count": null,
   "id": "e3f107ba",
   "metadata": {},
   "outputs": [
    {
     "data": {
      "text/plain": [
       "list"
      ]
     },
     "execution_count": 15,
     "metadata": {},
     "output_type": "execute_result"
    }
   ],
   "source": [
    "x = 1\n",
    "x = \"hello\"\n",
    "x = [1, 2, 3]\n",
    "type(x)"
   ]
  },
  {
   "cell_type": "code",
   "execution_count": 18,
   "id": "0a698c62",
   "metadata": {},
   "outputs": [
    {
     "data": {
      "text/plain": [
       "float"
      ]
     },
     "execution_count": 18,
     "metadata": {},
     "output_type": "execute_result"
    }
   ],
   "source": [
    "type(3.14)"
   ]
  },
  {
   "cell_type": "code",
   "execution_count": 19,
   "id": "be023d98",
   "metadata": {},
   "outputs": [
    {
     "data": {
      "text/plain": [
       "str"
      ]
     },
     "execution_count": 19,
     "metadata": {},
     "output_type": "execute_result"
    }
   ],
   "source": [
    "type(\"5\" + \"5\")"
   ]
  },
  {
   "cell_type": "code",
   "execution_count": 20,
   "id": "7a3da408",
   "metadata": {},
   "outputs": [
    {
     "data": {
      "text/plain": [
       "bool"
      ]
     },
     "execution_count": 20,
     "metadata": {},
     "output_type": "execute_result"
    }
   ],
   "source": [
    "type(9 > 5)"
   ]
  },
  {
   "cell_type": "code",
   "execution_count": null,
   "id": "fe23f227",
   "metadata": {},
   "outputs": [
    {
     "data": {
      "text/plain": [
       "int"
      ]
     },
     "execution_count": 21,
     "metadata": {},
     "output_type": "execute_result"
    }
   ],
   "source": [
    "type(10 + 5)"
   ]
  },
  {
   "cell_type": "code",
   "execution_count": 22,
   "id": "cfc13a1c",
   "metadata": {},
   "outputs": [
    {
     "data": {
      "text/plain": [
       "str"
      ]
     },
     "execution_count": 22,
     "metadata": {},
     "output_type": "execute_result"
    }
   ],
   "source": [
    "type(\"Alive\" + \"Bob\")"
   ]
  },
  {
   "cell_type": "code",
   "execution_count": 23,
   "id": "2b601cf5",
   "metadata": {},
   "outputs": [
    {
     "data": {
      "text/plain": [
       "bool"
      ]
     },
     "execution_count": 23,
     "metadata": {},
     "output_type": "execute_result"
    }
   ],
   "source": [
    "type(True)"
   ]
  },
  {
   "cell_type": "code",
   "execution_count": 24,
   "id": "5c7d933b",
   "metadata": {},
   "outputs": [
    {
     "name": "stdout",
     "output_type": "stream",
     "text": [
      "20 <class 'int'>\n",
      "20 <class 'str'>\n"
     ]
    },
    {
     "ename": "TypeError",
     "evalue": "unsupported operand type(s) for +: 'int' and 'str'",
     "output_type": "error",
     "traceback": [
      "\u001b[31m---------------------------------------------------------------------------\u001b[39m",
      "\u001b[31mTypeError\u001b[39m                                 Traceback (most recent call last)",
      "\u001b[36mCell\u001b[39m\u001b[36m \u001b[39m\u001b[32mIn[24]\u001b[39m\u001b[32m, line 6\u001b[39m\n\u001b[32m      4\u001b[39m \u001b[38;5;28mprint\u001b[39m(x, \u001b[38;5;28mtype\u001b[39m(x))\n\u001b[32m      5\u001b[39m \u001b[38;5;28mprint\u001b[39m(y, \u001b[38;5;28mtype\u001b[39m(y))\n\u001b[32m----> \u001b[39m\u001b[32m6\u001b[39m \u001b[38;5;28mprint\u001b[39m(\u001b[43mx\u001b[49m\u001b[43m \u001b[49m\u001b[43m+\u001b[49m\u001b[43m \u001b[49m\u001b[43my\u001b[49m)\n",
      "\u001b[31mTypeError\u001b[39m: unsupported operand type(s) for +: 'int' and 'str'"
     ]
    }
   ],
   "source": [
    "x = 20\n",
    "y = \"20\"\n",
    "\n",
    "print(x, type(x))\n",
    "print(y, type(y))\n",
    "print(x + y)"
   ]
  },
  {
   "cell_type": "code",
   "execution_count": null,
   "id": "78362dc6",
   "metadata": {},
   "outputs": [
    {
     "name": "stdout",
     "output_type": "stream",
     "text": [
      "20 <class 'int'>\n",
      "40\n"
     ]
    }
   ],
   "source": [
    "z = int(y)\n",
    "print(z, type(z))\n",
    "print(x + z)"
   ]
  },
  {
   "cell_type": "code",
   "execution_count": 28,
   "id": "969f34c5",
   "metadata": {},
   "outputs": [
    {
     "name": "stdout",
     "output_type": "stream",
     "text": [
      "1\n"
     ]
    }
   ],
   "source": [
    "width = input(\"enter the width: \")\n",
    "height = input(\"enter the height: \")\n",
    "area = int(width) * int(height)\n",
    "print(area)"
   ]
  },
  {
   "cell_type": "code",
   "execution_count": null,
   "id": "a7deb37d",
   "metadata": {},
   "outputs": [
    {
     "name": "stdout",
     "output_type": "stream",
     "text": [
      "you'll be 21 after 20 years, you're old\n"
     ]
    }
   ],
   "source": [
    "age = input(\"how old are you? i'll remind you of something!\")\n",
    "print(\"you'll be\", int(age) + 20, \"after 20 years, you're old\")"
   ]
  },
  {
   "cell_type": "code",
   "execution_count": 30,
   "id": "0cea2cef",
   "metadata": {},
   "outputs": [
    {
     "name": "stdout",
     "output_type": "stream",
     "text": [
      "437.5\n"
     ]
    }
   ],
   "source": [
    "x2 = 35.0\n",
    "y = 12.50\n",
    "mne = x2 * y\n",
    "print(mne)"
   ]
  },
  {
   "cell_type": "code",
   "execution_count": 31,
   "id": "210f5ec9",
   "metadata": {},
   "outputs": [],
   "source": [
    "x = 10\n",
    "y = 20"
   ]
  },
  {
   "cell_type": "code",
   "execution_count": null,
   "id": "198f739b",
   "metadata": {},
   "outputs": [
    {
     "name": "stdout",
     "output_type": "stream",
     "text": [
      "False\n",
      "True\n",
      "False\n",
      "True\n",
      "False\n",
      "True\n"
     ]
    }
   ],
   "source": [
    "print(x == y)\n",
    "print(x != y)\n",
    "print(x > y)\n",
    "print(x < y)\n",
    "print(x >= y)\n",
    "print(x <= y)"
   ]
  },
  {
   "cell_type": "code",
   "execution_count": null,
   "id": "1304efa3",
   "metadata": {},
   "outputs": [
    {
     "name": "stdout",
     "output_type": "stream",
     "text": [
      "2407845\n",
      "0.4292237442922374\n",
      "221\n"
     ]
    }
   ],
   "source": [
    "print(3 + 2 * 1203921)\n",
    "print((82 + 12) / 219)\n",
    "print((322 ^ 2 * 33) - 35)"
   ]
  },
  {
   "cell_type": "code",
   "execution_count": null,
   "id": "78549530",
   "metadata": {},
   "outputs": [
    {
     "name": "stdout",
     "output_type": "stream",
     "text": [
      "addition:\n",
      "7\n",
      "subtraction:\n",
      "3\n",
      "product:\n",
      "10\n",
      "division:\n",
      "2.5\n",
      "remainder:\n",
      "1\n"
     ]
    }
   ],
   "source": [
    "n1 = int(input(\"enter the first number \"))\n",
    "n2 = int(input(\"enter the second number \"))\n",
    "print(\n",
    "    f\"addition:\\n{sum([n1,n2])}\\nsubtraction:\\n{n1 - n2}\\nproduct:\\n{n1 * n2}\\ndivision:\\n{n1 / n2}\\nremainder:\\n{n1 % n2}\"\n",
    ")"
   ]
  },
  {
   "cell_type": "code",
   "execution_count": 48,
   "id": "11616063",
   "metadata": {},
   "outputs": [],
   "source": [
    "first_name = \"John\"\n",
    "name = \"john doe\"\n",
    "last_name = \"DeprecationWarning\"\n",
    "address = \"Riyadh, Saudi Arabia\"\n",
    "phone = \"00966555555555\"\n",
    "\n",
    "message = \"\"\"Hello everyone,\n",
    "i hope you are enjoying the course,\n",
    "\n",
    "thank you.\n",
    "\"\"\""
   ]
  },
  {
   "cell_type": "code",
   "execution_count": 49,
   "id": "c870315f",
   "metadata": {},
   "outputs": [
    {
     "data": {
      "text/plain": [
       "'john doe'"
      ]
     },
     "execution_count": 49,
     "metadata": {},
     "output_type": "execute_result"
    }
   ],
   "source": [
    "name"
   ]
  },
  {
   "cell_type": "code",
   "execution_count": null,
   "id": "36c4861c",
   "metadata": {},
   "outputs": [
    {
     "name": "stdout",
     "output_type": "stream",
     "text": [
      "if a circle's radius is 20 then the area is:\n",
      "1256.64\n"
     ]
    }
   ],
   "source": [
    "import math\n",
    "\n",
    "radius = int(input(\"write the radius of a circle for its area: \"))\n",
    "print(\n",
    "    f\"if a circle's radius is {radius} then the area is:\\n{math.pi * math.pow(radius, 2):.2f}\"\n",
    ")"
   ]
  },
  {
   "cell_type": "code",
   "execution_count": null,
   "id": "52b93906",
   "metadata": {},
   "outputs": [
    {
     "name": "stdout",
     "output_type": "stream",
     "text": [
      "4\n"
     ]
    }
   ],
   "source": [
    "print(len([1, 2, 3, 4]))"
   ]
  },
  {
   "cell_type": "code",
   "execution_count": null,
   "id": "40b0a89a",
   "metadata": {},
   "outputs": [
    {
     "name": "stdout",
     "output_type": "stream",
     "text": [
      "110\n"
     ]
    }
   ],
   "source": [
    "msg = \"\"\"this is a long message, it can have \"double quotes\", a 'single quote' and multiple quotes. pretty cool, right?\"\"\"\n",
    "print(len(msg))"
   ]
  },
  {
   "cell_type": "code",
   "execution_count": 47,
   "id": "dfa81e38",
   "metadata": {},
   "outputs": [
    {
     "name": "stdout",
     "output_type": "stream",
     "text": [
      "SalamSalamSalam\n"
     ]
    }
   ],
   "source": [
    "s = \"Salam\" * 3\n",
    "print(s)"
   ]
  },
  {
   "cell_type": "code",
   "execution_count": 51,
   "id": "c86d1d82",
   "metadata": {},
   "outputs": [
    {
     "name": "stdout",
     "output_type": "stream",
     "text": [
      "100000000\n"
     ]
    }
   ],
   "source": [
    "zeros = \"0\" * 8\n",
    "print(\"1\" + zeros)"
   ]
  },
  {
   "cell_type": "code",
   "execution_count": 50,
   "id": "eb974a21",
   "metadata": {},
   "outputs": [
    {
     "name": "stdout",
     "output_type": "stream",
     "text": [
      "14\n",
      "64\n"
     ]
    }
   ],
   "source": [
    "print(len(phone))\n",
    "print(len(message))"
   ]
  },
  {
   "cell_type": "code",
   "execution_count": 52,
   "id": "0b560b8e",
   "metadata": {},
   "outputs": [
    {
     "name": "stdout",
     "output_type": "stream",
     "text": [
      "True\n"
     ]
    }
   ],
   "source": [
    "vowels = \"aeiou\"\n",
    "print(\"a\" in vowels)"
   ]
  },
  {
   "cell_type": "code",
   "execution_count": 53,
   "id": "7cd1828d",
   "metadata": {},
   "outputs": [
    {
     "data": {
      "text/plain": [
       "'HELLO'"
      ]
     },
     "execution_count": 53,
     "metadata": {},
     "output_type": "execute_result"
    }
   ],
   "source": [
    "\"hello\".upper()"
   ]
  },
  {
   "cell_type": "code",
   "execution_count": 54,
   "id": "1e310807",
   "metadata": {},
   "outputs": [
    {
     "data": {
      "text/plain": [
       "'hello'"
      ]
     },
     "execution_count": 54,
     "metadata": {},
     "output_type": "execute_result"
    }
   ],
   "source": [
    "\"HELLO\".lower()"
   ]
  },
  {
   "cell_type": "code",
   "execution_count": 55,
   "id": "bde40fcd",
   "metadata": {},
   "outputs": [
    {
     "name": "stdout",
     "output_type": "stream",
     "text": [
      "John doe\n"
     ]
    }
   ],
   "source": [
    "print(name.capitalize())"
   ]
  },
  {
   "cell_type": "code",
   "execution_count": 56,
   "id": "0ed20852",
   "metadata": {},
   "outputs": [
    {
     "name": "stdout",
     "output_type": "stream",
     "text": [
      "John Doe\n"
     ]
    }
   ],
   "source": [
    "print(name.title())"
   ]
  },
  {
   "cell_type": "code",
   "execution_count": 58,
   "id": "b05f3013",
   "metadata": {},
   "outputs": [
    {
     "name": "stdout",
     "output_type": "stream",
     "text": [
      "True\n",
      "False\n",
      "True\n"
     ]
    }
   ],
   "source": [
    "print(name.islower())\n",
    "print(name.isupper())\n",
    "print((name.upper()).isupper())"
   ]
  },
  {
   "cell_type": "code",
   "execution_count": null,
   "id": "bdf67eb1",
   "metadata": {},
   "outputs": [
    {
     "name": "stdout",
     "output_type": "stream",
     "text": [
      "2\n"
     ]
    }
   ],
   "source": [
    "print(name.count(\"o\"))"
   ]
  },
  {
   "cell_type": "code",
   "execution_count": null,
   "id": "0928eee4",
   "metadata": {},
   "outputs": [
    {
     "name": "stdout",
     "output_type": "stream",
     "text": [
      "1\n"
     ]
    }
   ],
   "source": [
    "print(name.count(\"h\"))"
   ]
  },
  {
   "cell_type": "code",
   "execution_count": null,
   "id": "8dd00138",
   "metadata": {},
   "outputs": [
    {
     "name": "stdout",
     "output_type": "stream",
     "text": [
      "1\n"
     ]
    }
   ],
   "source": [
    "print(name.find(\"ohn\"))"
   ]
  },
  {
   "cell_type": "code",
   "execution_count": 65,
   "id": "0356dcb1",
   "metadata": {},
   "outputs": [
    {
     "name": "stdout",
     "output_type": "stream",
     "text": [
      "Owen\n"
     ]
    }
   ],
   "source": [
    "print(name.replace(\"john doe\", \"Owen\"))"
   ]
  },
  {
   "cell_type": "code",
   "execution_count": null,
   "id": "58ce3aeb",
   "metadata": {},
   "outputs": [
    {
     "name": "stdout",
     "output_type": "stream",
     "text": [
      "['hello', 'world']\n"
     ]
    }
   ],
   "source": [
    "print(\"hello,world\".split(\",\"))"
   ]
  },
  {
   "cell_type": "code",
   "execution_count": null,
   "id": "b4c6b2a7",
   "metadata": {},
   "outputs": [
    {
     "data": {
      "text/plain": [
       "'1 Null 1 Null 1 Null 1'"
      ]
     },
     "execution_count": 67,
     "metadata": {},
     "output_type": "execute_result"
    }
   ],
   "source": [
    "\" Null \".join(\"1111\")"
   ]
  },
  {
   "cell_type": "code",
   "execution_count": null,
   "id": "52dd222d",
   "metadata": {},
   "outputs": [
    {
     "data": {
      "text/plain": [
       "'first,second,last'"
      ]
     },
     "execution_count": 70,
     "metadata": {},
     "output_type": "execute_result"
    }
   ],
   "source": [
    "\",\".join([\"first\", \"second\", \"last\"])"
   ]
  },
  {
   "cell_type": "code",
   "execution_count": null,
   "id": "665f72f3",
   "metadata": {},
   "outputs": [
    {
     "name": "stdout",
     "output_type": "stream",
     "text": [
      "e          y\n"
     ]
    }
   ],
   "source": [
    "print(\n",
    "    \"                                                              e          y  \".strip()\n",
    ")"
   ]
  },
  {
   "cell_type": "code",
   "execution_count": null,
   "id": "4f98e8cc",
   "metadata": {},
   "outputs": [
    {
     "name": "stdout",
     "output_type": "stream",
     "text": [
      "john doe\n"
     ]
    }
   ],
   "source": [
    "print((name.center(102)).strip())"
   ]
  },
  {
   "cell_type": "code",
   "execution_count": 83,
   "id": "67b3f20e",
   "metadata": {},
   "outputs": [
    {
     "name": "stdout",
     "output_type": "stream",
     "text": [
      "00001234\n"
     ]
    }
   ],
   "source": [
    "print(format(1234, \"08d\"))"
   ]
  },
  {
   "cell_type": "code",
   "execution_count": null,
   "id": "8a674e82",
   "metadata": {},
   "outputs": [
    {
     "name": "stdout",
     "output_type": "stream",
     "text": [
      "True\n",
      "True\n"
     ]
    }
   ],
   "source": [
    "print(name.startswith(\"j\"))\n",
    "print(name.endswith(\"e\"))"
   ]
  },
  {
   "cell_type": "code",
   "execution_count": null,
   "id": "95005526",
   "metadata": {},
   "outputs": [
    {
     "name": "stdout",
     "output_type": "stream",
     "text": [
      "********************\n",
      "********naif********\n",
      "********************\n"
     ]
    }
   ],
   "source": [
    "name = \"naif\"\n",
    "width = 20\n",
    "decorator = \"*\"\n",
    "print(decorator * width)\n",
    "print(name.center(width, decorator))\n",
    "print(decorator * width)"
   ]
  },
  {
   "cell_type": "code",
   "execution_count": null,
   "id": "c612892f",
   "metadata": {},
   "outputs": [
    {
     "name": "stdout",
     "output_type": "stream",
     "text": [
      "##############################\n",
      "#############NAIF#############\n",
      "##############################\n"
     ]
    }
   ],
   "source": [
    "# just for fun:\n",
    "\n",
    "name = name.upper()\n",
    "decorator = \"#\"\n",
    "width = 30\n",
    "print(f\"{decorator * width}\\n{name.center(width, decorator)}\\n{decorator * width}\")b"
   ]
  },
  {
   "cell_type": "code",
   "execution_count": 94,
   "id": "383cd185",
   "metadata": {},
   "outputs": [
    {
     "name": "stdout",
     "output_type": "stream",
     "text": [
      "thonista\n"
     ]
    }
   ],
   "source": [
    "name = \"Pythonista\"\n",
    "print(name[2:])"
   ]
  },
  {
   "cell_type": "code",
   "execution_count": 97,
   "id": "f61ef720",
   "metadata": {},
   "outputs": [
    {
     "name": "stdout",
     "output_type": "stream",
     "text": [
      "P\n",
      "a\n",
      "a\n",
      "a\n"
     ]
    }
   ],
   "source": [
    "print(name[0])\n",
    "print(name[-1])\n",
    "print(name[9])\n",
    "print(name[-1])"
   ]
  },
  {
   "cell_type": "code",
   "execution_count": 101,
   "id": "0abe58d2",
   "metadata": {},
   "outputs": [
    {
     "name": "stdout",
     "output_type": "stream",
     "text": [
      "ython\n",
      "yhn\n",
      "ista\n"
     ]
    }
   ],
   "source": [
    "# this is actually dope, the third number in the slicing is actually is a step count:\n",
    "print(name[1:6:1])\n",
    "print(name[1:6:2])\n",
    "# print last 4 chars:\n",
    "print(name[-4:])"
   ]
  },
  {
   "cell_type": "code",
   "execution_count": 113,
   "id": "a8db661f",
   "metadata": {},
   "outputs": [
    {
     "name": "stdout",
     "output_type": "stream",
     "text": [
      "you can read this.\n",
      " \n",
      "u \n"
     ]
    }
   ],
   "source": [
    "# just for fun:\n",
    "\n",
    "string = \"y o u   c a n   r e a d   t h i s .\"\n",
    "print(string[::2])\n",
    "print(string[1:3:2])\n",
    "print(string[4:7:2])"
   ]
  },
  {
   "cell_type": "code",
   "execution_count": 124,
   "id": "5ef6efc1",
   "metadata": {},
   "outputs": [
    {
     "name": "stdout",
     "output_type": "stream",
     "text": [
      ".siht daer nac uoy\n",
      "yhnsa\n",
      "YHNSA\n",
      "ASNHY\n"
     ]
    }
   ],
   "source": [
    "print((string[::-1])[::2])\n",
    "print(name[1::2])\n",
    "print(name[1::2].upper())\n",
    "print((name[1::2])[::-1].upper())"
   ]
  },
  {
   "cell_type": "code",
   "execution_count": null,
   "id": "86bdde34",
   "metadata": {},
   "outputs": [
    {
     "name": "stdout",
     "output_type": "stream",
     "text": [
      "My name is John and my age is 30\n",
      "My name is John and my age is 30\n",
      "My name is John and my age is 30\n",
      "My name is John and my age is 30\n"
     ]
    }
   ],
   "source": [
    "name = \"John\"\n",
    "age = 30\n",
    "print(\"My name is \" + name + \" and my age is \" + str(age))\n",
    "print(\"My name is \" + name + \" and my age is \" + str(age))\n",
    "print(\"My name is {} and my age is {}\".format(name, age))\n",
    "print(f\"My name is {name} and my age is {age}\")"
   ]
  },
  {
   "cell_type": "code",
   "execution_count": 129,
   "id": "3a3e2c5d",
   "metadata": {},
   "outputs": [
    {
     "name": "stdout",
     "output_type": "stream",
     "text": [
      "10.5679\n"
     ]
    }
   ],
   "source": [
    "num = 10.5679\n",
    "print(num)"
   ]
  },
  {
   "cell_type": "code",
   "execution_count": 132,
   "id": "f303023f",
   "metadata": {},
   "outputs": [
    {
     "name": "stdout",
     "output_type": "stream",
     "text": [
      "10.57\n"
     ]
    }
   ],
   "source": [
    "print(\"{:.2f}\".format(num))"
   ]
  },
  {
   "cell_type": "code",
   "execution_count": 133,
   "id": "59435ef1",
   "metadata": {},
   "outputs": [
    {
     "name": "stdout",
     "output_type": "stream",
     "text": [
      "10.57\n"
     ]
    }
   ],
   "source": [
    "print(f\"{num:.2f}\")"
   ]
  },
  {
   "cell_type": "code",
   "execution_count": 134,
   "id": "38eb115b",
   "metadata": {},
   "outputs": [
    {
     "name": "stdout",
     "output_type": "stream",
     "text": [
      "     10.57\n"
     ]
    }
   ],
   "source": [
    "print(f\"{num:>10.2f}\")"
   ]
  },
  {
   "cell_type": "code",
   "execution_count": 135,
   "id": "a24b6410",
   "metadata": {},
   "outputs": [
    {
     "name": "stdout",
     "output_type": "stream",
     "text": [
      "1,000,000,000\n"
     ]
    }
   ],
   "source": [
    "big_num = 1000000000\n",
    "print(f\"{big_num:,}\")"
   ]
  },
  {
   "cell_type": "code",
   "execution_count": null,
   "id": "19bdb440",
   "metadata": {},
   "outputs": [
    {
     "name": "stdout",
     "output_type": "stream",
     "text": [
      "$0.235000\n"
     ]
    }
   ],
   "source": [
    "percent = 0.235\n",
    "print(f\"${percent:>2f}\")"
   ]
  },
  {
   "cell_type": "code",
   "execution_count": null,
   "id": "a64678ab",
   "metadata": {},
   "outputs": [
    {
     "name": "stdout",
     "output_type": "stream",
     "text": [
      "[[999, 2], [3, 4]]\n",
      "[[999, 2], [3, 4]]\n"
     ]
    }
   ],
   "source": [
    "a = [[1, 2], [3, 4]]\n",
    "b = a.copy()\n",
    "a[0][0] = 999\n",
    "print(a)\n",
    "print(b)"
   ]
  },
  {
   "cell_type": "code",
   "execution_count": null,
   "id": "1390bfe8",
   "metadata": {},
   "outputs": [
    {
     "name": "stdout",
     "output_type": "stream",
     "text": [
      "[[999, 2], [3, 4]]\n",
      "[[1, 2], [3, 4]]\n"
     ]
    }
   ],
   "source": [
    "import copy\n",
    "\n",
    "a = [[1, 2], [3, 4]]\n",
    "b = copy.deepcopy(a)\n",
    "a[0][0] = 999\n",
    "print(a)\n",
    "print(b)"
   ]
  },
  {
   "cell_type": "code",
   "execution_count": null,
   "id": "3b3074d9",
   "metadata": {},
   "outputs": [
    {
     "name": "stdout",
     "output_type": "stream",
     "text": [
      "Ali\n",
      "Bob\n",
      "Cha\n",
      "['Alice', 'Bob', 'Charlie']\n",
      "['alissa', 'Bob', 'Charlie']\n",
      "['allissas', 'Bob', 'Charlie']\n"
     ]
    }
   ],
   "source": [
    "# create list of names:\n",
    "names = [\"Alice\", \"Bob\", \"Charlie\"]\n",
    "# print the three first letters of each name:\n",
    "for x in names:\n",
    "    print(x[:3])\n",
    "# create a shallow copy and a deep copy of the list:\n",
    "shallow = names.copy()\n",
    "# shallow copies still act like deep copies in lists of string.\n",
    "\n",
    "# still i'm going to do the deep copy anyways.\n",
    "deep = copy.deepcopy(names)\n",
    "\n",
    "# changes:\n",
    "shallow[0] = \"alissa\"\n",
    "deep[0] = \"allissas\"\n",
    "\n",
    "# display:\n",
    "print(names)\n",
    "print(shallow)\n",
    "print(deep)"
   ]
  },
  {
   "cell_type": "code",
   "execution_count": 148,
   "id": "5b158b8f",
   "metadata": {},
   "outputs": [
    {
     "data": {
      "text/plain": [
       "'Apple'"
      ]
     },
     "execution_count": 148,
     "metadata": {},
     "output_type": "execute_result"
    }
   ],
   "source": [
    "fruits = [\"Apple\", \"Banana\", \"Orange\", \"Lemon\"]\n",
    "\n",
    "first_element = fruits[0]\n",
    "first_element"
   ]
  },
  {
   "cell_type": "code",
   "execution_count": 149,
   "id": "fcb55bbb",
   "metadata": {},
   "outputs": [
    {
     "data": {
      "text/plain": [
       "'Lemon'"
      ]
     },
     "execution_count": 149,
     "metadata": {},
     "output_type": "execute_result"
    }
   ],
   "source": [
    "last_element = fruits[-1]\n",
    "last_element"
   ]
  },
  {
   "cell_type": "code",
   "execution_count": null,
   "id": "fefea0ce",
   "metadata": {},
   "outputs": [],
   "source": [
    "HeterogeniousList = [\"abc\", 123, \"IIIIII\", [\"that was the roman numerals\"]]\n",
    "HeterogeniousList.append(\"append\")\n",
    "HeterogeniousList.copy()\n",
    "HeterogeniousList.count(\"a\")\n",
    "HeterogeniousList.extend(fruits)\n",
    "HeterogeniousList.index(\"Apple\")\n",
    "HeterogeniousList.insert(\n",
    "    HeterogeniousList.index(\"Apple\"), \"let's remove this and beyond\"\n",
    ")\n",
    "HeterogeniousList.pop(HeterogeniousList.index(\"let's remove this and beyond\"))\n",
    "HeterogeniousList.remove(\"abc\")\n",
    "HeterogeniousList.reverse()\n",
    "# HeterogeniousList.sort() # sort hates heterogenious lists...\n",
    "HeterogeniousList.clear()  # not now."
   ]
  }
 ],
 "metadata": {
  "kernelspec": {
   "display_name": ".venv",
   "language": "python",
   "name": "python3"
  },
  "language_info": {
   "codemirror_mode": {
    "name": "ipython",
    "version": 3
   },
   "file_extension": ".py",
   "mimetype": "text/x-python",
   "name": "python",
   "nbconvert_exporter": "python",
   "pygments_lexer": "ipython3",
   "version": "3.11.9"
  }
 },
 "nbformat": 4,
 "nbformat_minor": 5
}
