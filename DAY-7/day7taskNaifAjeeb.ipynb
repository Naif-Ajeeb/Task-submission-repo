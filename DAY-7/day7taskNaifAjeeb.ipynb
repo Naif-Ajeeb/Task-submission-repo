{
  "cells": [
    {
      "cell_type": "code",
      "execution_count": null,
      "id": "212fd1ba",
      "metadata": {
        "id": "212fd1ba"
      },
      "outputs": [],
      "source": [
        "import numpy as np"
      ]
    },
    {
      "cell_type": "markdown",
      "id": "10803eb0",
      "metadata": {
        "id": "10803eb0"
      },
      "source": [
        "## Q#1: Create x array with elements equal to 1."
      ]
    },
    {
      "cell_type": "code",
      "execution_count": null,
      "id": "3307454f",
      "metadata": {
        "colab": {
          "base_uri": "https://localhost:8080/"
        },
        "id": "3307454f",
        "outputId": "35b4c358-5d96-4ef8-f71f-ec0010240370"
      },
      "outputs": [
        {
          "data": {
            "text/plain": [
              "array([1, 1, 1, 1, 1, 1, 1])"
            ]
          },
          "execution_count": 3,
          "metadata": {},
          "output_type": "execute_result"
        }
      ],
      "source": [
        "# write your code here ^_^\n",
        "x = np.random.randint(1,2, size = 7)\n",
        "x"
      ]
    },
    {
      "cell_type": "markdown",
      "id": "7795306d",
      "metadata": {
        "id": "7795306d"
      },
      "source": [
        "## Q#2: Create y array with elements equal to 0."
      ]
    },
    {
      "cell_type": "code",
      "execution_count": null,
      "id": "9550b063",
      "metadata": {
        "colab": {
          "base_uri": "https://localhost:8080/"
        },
        "id": "9550b063",
        "outputId": "17cee946-b4b5-4afe-833d-f7bf806d4e00"
      },
      "outputs": [
        {
          "data": {
            "text/plain": [
              "array([0, 0, 0, 0, 0, 0, 0])"
            ]
          },
          "execution_count": 4,
          "metadata": {},
          "output_type": "execute_result"
        }
      ],
      "source": [
        "# write your code here ^_^\n",
        "y = np.random.randint(1,size = 7)\n",
        "y"
      ]
    },
    {
      "cell_type": "markdown",
      "id": "cde6a939",
      "metadata": {
        "id": "cde6a939"
      },
      "source": [
        "## Q#3: Add x and y arrays."
      ]
    },
    {
      "cell_type": "code",
      "execution_count": null,
      "id": "71070d1d",
      "metadata": {
        "colab": {
          "base_uri": "https://localhost:8080/"
        },
        "id": "71070d1d",
        "outputId": "4abf8610-d4b0-4606-f4d5-696e60a2043c"
      },
      "outputs": [
        {
          "data": {
            "text/plain": [
              "array([1, 1, 1, 1, 1, 1, 1])"
            ]
          },
          "execution_count": 5,
          "metadata": {},
          "output_type": "execute_result"
        }
      ],
      "source": [
        "# write your code here ^_^\n",
        "x + y"
      ]
    },
    {
      "cell_type": "markdown",
      "id": "ed854f4c",
      "metadata": {
        "id": "ed854f4c"
      },
      "source": [
        "## Q#4: Print x array characteristics (e.g: dimension, shape, size, type)."
      ]
    },
    {
      "cell_type": "code",
      "execution_count": null,
      "id": "32627c83",
      "metadata": {
        "colab": {
          "base_uri": "https://localhost:8080/"
        },
        "id": "32627c83",
        "outputId": "fd3c366f-caec-43ac-83a7-581dab565a6f"
      },
      "outputs": [
        {
          "name": "stdout",
          "output_type": "stream",
          "text": [
            "(7,)\n",
            "1\n",
            "7\n",
            "int64\n",
            "<memory at 0x786fe0066980>\n"
          ]
        }
      ],
      "source": [
        "# write your code here ^_^\n",
        "print(x.shape)\n",
        "print(x.ndim)\n",
        "print(x.size)\n",
        "print(x.dtype)\n",
        "print(x.data)"
      ]
    },
    {
      "cell_type": "markdown",
      "id": "dbd46a73",
      "metadata": {
        "id": "dbd46a73"
      },
      "source": [
        "## Q#5: Create a 2D array \"called w\" as the following:\n",
        "\n",
        "|       |          |\n",
        "| ----- | -------- |\n",
        "| 11    | 12       |\n",
        "| 13    | 14       |\n",
        "| 15    | 16       |\n"
      ]
    },
    {
      "cell_type": "code",
      "execution_count": null,
      "id": "b9c7bbb0",
      "metadata": {
        "colab": {
          "base_uri": "https://localhost:8080/"
        },
        "id": "b9c7bbb0",
        "outputId": "001ec36e-48ad-4fff-bd75-74643a85b77e"
      },
      "outputs": [
        {
          "name": "stdout",
          "output_type": "stream",
          "text": [
            "[[11 12]\n",
            " [13 14]\n",
            " [15 16]]\n"
          ]
        }
      ],
      "source": [
        "# write your code here ^_^\n",
        "w = np.array([[11,12],[13,14],[15,16]])\n",
        "print(w)"
      ]
    },
    {
      "cell_type": "markdown",
      "id": "0e62bd09",
      "metadata": {
        "id": "0e62bd09"
      },
      "source": [
        "## Q#6: Create z array contains the numbers from 1 to 3."
      ]
    },
    {
      "cell_type": "code",
      "execution_count": null,
      "id": "cee8aba0",
      "metadata": {
        "colab": {
          "base_uri": "https://localhost:8080/"
        },
        "id": "cee8aba0",
        "outputId": "dc63c58c-91ce-42e2-d6c1-c8f5163a3ff3"
      },
      "outputs": [
        {
          "data": {
            "text/plain": [
              "array([1, 2, 3])"
            ]
          },
          "execution_count": 8,
          "metadata": {},
          "output_type": "execute_result"
        }
      ],
      "source": [
        "# write your code here ^_^\n",
        "z = np.arange(1,4)\n",
        "z"
      ]
    },
    {
      "cell_type": "markdown",
      "id": "32b00711",
      "metadata": {
        "id": "32b00711"
      },
      "source": [
        "## Q#7: Combine the arrays z and w in horizontal way then save it in a new variable \"newArray\"."
      ]
    },
    {
      "cell_type": "code",
      "execution_count": null,
      "id": "d218f892",
      "metadata": {
        "colab": {
          "base_uri": "https://localhost:8080/"
        },
        "id": "d218f892",
        "outputId": "04c3159a-c018-42e7-92d1-38026bf7c378"
      },
      "outputs": [
        {
          "data": {
            "text/plain": [
              "array([[ 1, 11, 12],\n",
              "       [ 2, 13, 14],\n",
              "       [ 3, 15, 16]])"
            ]
          },
          "execution_count": 9,
          "metadata": {},
          "output_type": "execute_result"
        }
      ],
      "source": [
        "# write your code here ^_^\n",
        "newArray = np.hstack((z.reshape(3,1),w))\n",
        "newArray"
      ]
    },
    {
      "cell_type": "markdown",
      "id": "7e009910",
      "metadata": {
        "id": "7e009910"
      },
      "source": [
        "## Q#8: Print all elements of \"newArray\" using the loop."
      ]
    },
    {
      "cell_type": "code",
      "execution_count": null,
      "id": "abbed923",
      "metadata": {
        "colab": {
          "base_uri": "https://localhost:8080/"
        },
        "id": "abbed923",
        "outputId": "5d4a41c6-e4a7-492f-fd03-9b40b1aa4b5e"
      },
      "outputs": [
        {
          "name": "stdout",
          "output_type": "stream",
          "text": [
            "[ 1 11 12]\n",
            "1\n",
            "11\n",
            "12\n",
            "[ 2 13 14]\n",
            "2\n",
            "13\n",
            "14\n",
            "[ 3 15 16]\n",
            "3\n",
            "15\n",
            "16\n"
          ]
        }
      ],
      "source": [
        "# write your code here ^_^\n",
        "for row in newArray:\n",
        "  print(row)\n",
        "  for item in row:\n",
        "    print(item)"
      ]
    },
    {
      "cell_type": "markdown",
      "id": "011c6d2d",
      "metadata": {
        "id": "011c6d2d"
      },
      "source": [
        "## Q#9: Reverse the columns and rows of \"newArray\"."
      ]
    },
    {
      "cell_type": "code",
      "execution_count": null,
      "id": "12e3f0db",
      "metadata": {
        "colab": {
          "base_uri": "https://localhost:8080/"
        },
        "id": "12e3f0db",
        "outputId": "9c084cfd-76a2-41ac-dcfe-5497358a6c9f"
      },
      "outputs": [
        {
          "data": {
            "text/plain": [
              "array([[ 1,  2,  3],\n",
              "       [11, 13, 15],\n",
              "       [12, 14, 16]])"
            ]
          },
          "execution_count": 11,
          "metadata": {},
          "output_type": "execute_result"
        }
      ],
      "source": [
        "# write your code here ^_^\n",
        "newArray.T"
      ]
    },
    {
      "cell_type": "markdown",
      "id": "f40b57c3",
      "metadata": {
        "id": "f40b57c3"
      },
      "source": [
        "## Q#10: Decrement all elements of \"newArray\" with 1."
      ]
    },
    {
      "cell_type": "code",
      "execution_count": null,
      "id": "aea004df",
      "metadata": {
        "colab": {
          "base_uri": "https://localhost:8080/"
        },
        "id": "aea004df",
        "outputId": "1f2a9d40-4bfe-459c-eca8-abd6a491c9fc"
      },
      "outputs": [
        {
          "data": {
            "text/plain": [
              "array([[ 0, 10, 11],\n",
              "       [ 1, 12, 13],\n",
              "       [ 2, 14, 15]])"
            ]
          },
          "execution_count": 12,
          "metadata": {},
          "output_type": "execute_result"
        }
      ],
      "source": [
        "# write your code here ^_^\n",
        "newArray = np.subtract(newArray, 1)\n",
        "newArray"
      ]
    },
    {
      "cell_type": "markdown",
      "id": "8901e8be",
      "metadata": {
        "id": "8901e8be"
      },
      "source": [
        "## Q#11: Find smallest and biggest values in \"newArray\"."
      ]
    },
    {
      "cell_type": "code",
      "execution_count": null,
      "id": "4ea08613",
      "metadata": {
        "colab": {
          "base_uri": "https://localhost:8080/"
        },
        "id": "4ea08613",
        "outputId": "da6127cd-db48-457a-d526-d09e29056f2f"
      },
      "outputs": [
        {
          "name": "stdout",
          "output_type": "stream",
          "text": [
            "0\n",
            "15\n"
          ]
        }
      ],
      "source": [
        "# write your code here ^_^\n",
        "print(newArray.min())\n",
        "print(newArray.max())"
      ]
    },
    {
      "cell_type": "markdown",
      "id": "c5d5d4ca",
      "metadata": {
        "id": "c5d5d4ca"
      },
      "source": [
        "## Q#12: Print the first row of \"newArray\" using indexing."
      ]
    },
    {
      "cell_type": "code",
      "execution_count": null,
      "id": "73e3b5a5",
      "metadata": {
        "colab": {
          "base_uri": "https://localhost:8080/"
        },
        "id": "73e3b5a5",
        "outputId": "f0fd135d-8091-4e10-edd2-639d9770506a"
      },
      "outputs": [
        {
          "name": "stdout",
          "output_type": "stream",
          "text": [
            "[ 0 10 11]\n"
          ]
        }
      ],
      "source": [
        "# write your code here ^_^\n",
        "print(newArray[0])"
      ]
    },
    {
      "cell_type": "markdown",
      "id": "78f4d6c1",
      "metadata": {
        "id": "78f4d6c1"
      },
      "source": [
        "## Q#13: Print the number equals 12 of \"newArray\" using indexing."
      ]
    },
    {
      "cell_type": "code",
      "execution_count": null,
      "id": "7ad660b7",
      "metadata": {
        "colab": {
          "base_uri": "https://localhost:8080/"
        },
        "id": "7ad660b7",
        "outputId": "8a2e4171-4944-41ae-fee0-529e6bb4a973"
      },
      "outputs": [
        {
          "name": "stdout",
          "output_type": "stream",
          "text": [
            "12\n"
          ]
        }
      ],
      "source": [
        "# write your code here ^_^\n",
        "# assuming we don't have to automate finding it in the array:\n",
        "print(newArray[1,1])"
      ]
    },
    {
      "cell_type": "markdown",
      "id": "932b5c3d",
      "metadata": {
        "id": "932b5c3d"
      },
      "source": [
        "## Q#14: Print the numbers equal 0 and 13 of \"newArray\" using indexing."
      ]
    },
    {
      "cell_type": "code",
      "execution_count": null,
      "id": "31fb5fd0",
      "metadata": {
        "colab": {
          "base_uri": "https://localhost:8080/"
        },
        "id": "31fb5fd0",
        "outputId": "4f079de2-0aad-4686-b5cc-cc2d4523e44a"
      },
      "outputs": [
        {
          "name": "stdout",
          "output_type": "stream",
          "text": [
            "0\n",
            "13\n"
          ]
        }
      ],
      "source": [
        "# write your code here ^_^\n",
        "# assuming we don't have to automate finding it in the array:\n",
        "print(newArray[0,0])\n",
        "print(newArray[1,2])"
      ]
    },
    {
      "cell_type": "markdown",
      "id": "27e0f68e",
      "metadata": {
        "id": "27e0f68e"
      },
      "source": [
        "## Q#15: Change the shape of \"newArray\" to (9,1)."
      ]
    },
    {
      "cell_type": "code",
      "execution_count": null,
      "id": "35f224ad",
      "metadata": {
        "colab": {
          "base_uri": "https://localhost:8080/"
        },
        "id": "35f224ad",
        "outputId": "f81ca9e3-ad37-486d-ebb0-e559c44362a9"
      },
      "outputs": [
        {
          "data": {
            "text/plain": [
              "array([[ 0],\n",
              "       [10],\n",
              "       [11],\n",
              "       [ 1],\n",
              "       [12],\n",
              "       [13],\n",
              "       [ 2],\n",
              "       [14],\n",
              "       [15]])"
            ]
          },
          "execution_count": 17,
          "metadata": {},
          "output_type": "execute_result"
        }
      ],
      "source": [
        "# write your code here ^_^\n",
        "newArray.reshape(9,1)"
      ]
    },
    {
      "cell_type": "markdown",
      "id": "e6d104c5",
      "metadata": {
        "id": "e6d104c5"
      },
      "source": [
        "## Q#16: Change the shape of \"newArray\" to (3,2)."
      ]
    },
    {
      "cell_type": "code",
      "execution_count": null,
      "id": "724d51d5",
      "metadata": {
        "colab": {
          "base_uri": "https://localhost:8080/",
          "height": 182
        },
        "id": "724d51d5",
        "outputId": "20455e77-c094-4d42-ba6c-055ac6f58906"
      },
      "outputs": [
        {
          "ename": "ValueError",
          "evalue": "cannot reshape array of size 9 into shape (3,2)",
          "output_type": "error",
          "traceback": [
            "\u001b[0;31m---------------------------------------------------------------------------\u001b[0m",
            "\u001b[0;31mValueError\u001b[0m                                Traceback (most recent call last)",
            "\u001b[0;32m<ipython-input-18-dcb88902bb87>\u001b[0m in \u001b[0;36m<cell line: 0>\u001b[0;34m()\u001b[0m\n\u001b[1;32m      1\u001b[0m \u001b[0;31m# write your code here ^_^\u001b[0m\u001b[0;34m\u001b[0m\u001b[0;34m\u001b[0m\u001b[0m\n\u001b[1;32m      2\u001b[0m \u001b[0;31m# it cannot be reshaped into this because it contains 9 elements, which is too much for a 3X2 matrix.\u001b[0m\u001b[0;34m\u001b[0m\u001b[0;34m\u001b[0m\u001b[0m\n\u001b[0;32m----> 3\u001b[0;31m \u001b[0mnewArray\u001b[0m\u001b[0;34m.\u001b[0m\u001b[0mreshape\u001b[0m\u001b[0;34m(\u001b[0m\u001b[0;36m3\u001b[0m\u001b[0;34m,\u001b[0m\u001b[0;36m2\u001b[0m\u001b[0;34m)\u001b[0m\u001b[0;34m\u001b[0m\u001b[0;34m\u001b[0m\u001b[0m\n\u001b[0m",
            "\u001b[0;31mValueError\u001b[0m: cannot reshape array of size 9 into shape (3,2)"
          ]
        }
      ],
      "source": [
        "# write your code here ^_^\n",
        "# it cannot be reshaped into this because it contains 9 elements, which is too much for a 3X2 matrix.\n",
        "newArray.reshape(3,2)"
      ]
    },
    {
      "cell_type": "markdown",
      "id": "09567fdc",
      "metadata": {
        "id": "09567fdc"
      },
      "source": [
        "# Well Done 🎉"
      ]
    }
  ],
  "metadata": {
    "colab": {
      "provenance": []
    },
    "kernelspec": {
      "display_name": "Python 3 (ipykernel)",
      "language": "python",
      "name": "python3"
    },
    "language_info": {
      "codemirror_mode": {
        "name": "ipython",
        "version": 3
      },
      "file_extension": ".py",
      "mimetype": "text/x-python",
      "name": "python",
      "nbconvert_exporter": "python",
      "pygments_lexer": "ipython3",
      "version": "3.9.12"
    }
  },
  "nbformat": 4,
  "nbformat_minor": 5
}
