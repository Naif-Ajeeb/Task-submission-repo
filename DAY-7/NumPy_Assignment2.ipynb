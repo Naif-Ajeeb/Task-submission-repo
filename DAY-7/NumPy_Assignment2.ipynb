{
  "cells": [
    {
      "cell_type": "markdown",
      "id": "e117c072",
      "metadata": {
        "id": "e117c072"
      },
      "source": [
        "# -------------------------------------------------------------------------------------------------"
      ]
    },
    {
      "cell_type": "markdown",
      "id": "3abcca66",
      "metadata": {
        "id": "3abcca66"
      },
      "source": [
        "# Name: Naif Saleh Ajeeb"
      ]
    },
    {
      "cell_type": "markdown",
      "id": "68b10897",
      "metadata": {
        "id": "68b10897"
      },
      "source": [
        "# -------------------------------------------------------------------------------------------------"
      ]
    },
    {
      "cell_type": "markdown",
      "id": "5ffb93ae",
      "metadata": {
        "id": "5ffb93ae"
      },
      "source": [
        "# Q1: Import numpy library\n"
      ]
    },
    {
      "cell_type": "code",
      "execution_count": null,
      "id": "936d4703",
      "metadata": {
        "id": "936d4703"
      },
      "outputs": [],
      "source": [
        "# write your code here ^_^\n",
        "import numpy as np"
      ]
    },
    {
      "cell_type": "markdown",
      "id": "b6991a89",
      "metadata": {
        "id": "b6991a89"
      },
      "source": [
        "# Q2: Generate a sequence of 15 floats using linspace() function\n"
      ]
    },
    {
      "cell_type": "code",
      "execution_count": null,
      "id": "43bf04a5",
      "metadata": {
        "id": "43bf04a5",
        "outputId": "f59eb65f-1448-4b13-a337-717f77d178c7"
      },
      "outputs": [
        {
          "name": "stdout",
          "output_type": "stream",
          "text": [
            "[0.         0.07142857 0.14285714 0.21428571 0.28571429 0.35714286\n",
            " 0.42857143 0.5        0.57142857 0.64285714 0.71428571 0.78571429\n",
            " 0.85714286 0.92857143 1.        ]\n"
          ]
        }
      ],
      "source": [
        "# write your code here ^_^\n",
        "\n",
        "sequence = np.linspace(0, 1, 15)\n",
        "print(sequence)"
      ]
    },
    {
      "cell_type": "markdown",
      "id": "7144bba8",
      "metadata": {
        "id": "7144bba8"
      },
      "source": [
        "# Q3: Create a 3-D array in shape (2, 2, 3) containing the four arrays given below\n",
        "\n",
        "Note : the array's name is up to you.\n",
        "\n",
        "|      |      |      |      |\n",
        "| ---- | ---- | ---- | ---- |\n",
        "| arr1 | 1.1  | 2.1  | 3.1  |\n",
        "| arr2 | 4.1  | 5.1  | 6.1  |\n",
        "| arr3 | 7.1  | 8.1  | 9.1  |\n",
        "| arr4 | 10.1 | 11.1 | 12.1 |\n"
      ]
    },
    {
      "cell_type": "code",
      "execution_count": null,
      "id": "c1c3f9dc",
      "metadata": {
        "id": "c1c3f9dc",
        "outputId": "d8057420-a8a3-4d3e-88c4-8028d27870a5"
      },
      "outputs": [
        {
          "name": "stdout",
          "output_type": "stream",
          "text": [
            "[[[ 1.1  2.1  3.1]\n",
            "  [ 4.1  5.1  6.1]]\n",
            "\n",
            " [[ 7.1  8.1  9.1]\n",
            "  [10.1 11.1 12.1]]]\n"
          ]
        }
      ],
      "source": [
        "# write your code here ^_^\n",
        "\n",
        "arr = np.array([\n",
        "    [1.1, 2.1, 3.1],\n",
        "    [4.1, 5.1, 6.1],\n",
        "    [7.1, 8.1, 9.1],\n",
        "    [10.1, 11.1, 12.1]\n",
        "])\n",
        "arr = arr.reshape(2, 2, 3)\n",
        "\n",
        "print(arr)"
      ]
    },
    {
      "cell_type": "markdown",
      "id": "807acbf6",
      "metadata": {
        "id": "807acbf6"
      },
      "source": [
        "# Q4: Print the following:\n",
        "\n",
        "Note: use the same array from Q3.\n",
        "\n",
        "- Array's type.\n",
        "- Array's elements datatype.\n",
        "- Array's shape.\n",
        "- Array's size.\n",
        "- Array's dimention.\n"
      ]
    },
    {
      "cell_type": "code",
      "execution_count": null,
      "id": "6e90d6a0",
      "metadata": {
        "id": "6e90d6a0",
        "outputId": "a4b0396a-84ab-4944-d394-5a3e1e7e27fe"
      },
      "outputs": [
        {
          "name": "stdout",
          "output_type": "stream",
          "text": [
            "<class 'numpy.ndarray'>\n",
            "float64\n",
            "(2, 2, 3)\n",
            "12\n",
            "3\n"
          ]
        }
      ],
      "source": [
        "# write your code here ^_^\n",
        "print(type(arr))\n",
        "print(arr.dtype)\n",
        "print(arr.shape)\n",
        "print(arr.size)\n",
        "print(arr.ndim)"
      ]
    },
    {
      "cell_type": "markdown",
      "id": "db4958b5",
      "metadata": {
        "id": "db4958b5"
      },
      "source": [
        "# Q5: Change the array dimention from 3-D to 4-D\n",
        "\n",
        "Note: use the same array from Q3.\n",
        "\n",
        "- Create a new array to hold the changes.\n",
        "- Print the new array's dimention and shape.\n"
      ]
    },
    {
      "cell_type": "code",
      "execution_count": null,
      "id": "e9f5c88c",
      "metadata": {
        "id": "e9f5c88c",
        "outputId": "d958e618-b2d2-4ff7-d076-125bf321a219"
      },
      "outputs": [
        {
          "name": "stdout",
          "output_type": "stream",
          "text": [
            "[[[[ 1.1]\n",
            "   [ 2.1]\n",
            "   [ 3.1]]\n",
            "\n",
            "  [[ 4.1]\n",
            "   [ 5.1]\n",
            "   [ 6.1]]]\n",
            "\n",
            "\n",
            " [[[ 7.1]\n",
            "   [ 8.1]\n",
            "   [ 9.1]]\n",
            "\n",
            "  [[10.1]\n",
            "   [11.1]\n",
            "   [12.1]]]]\n"
          ]
        }
      ],
      "source": [
        "# write your code here ^_^\n",
        "arr = arr.reshape(2, 2, 3, 1)\n",
        "print(arr)"
      ]
    },
    {
      "cell_type": "markdown",
      "id": "454f2504",
      "metadata": {
        "id": "454f2504"
      },
      "source": [
        "# Q6: Change the array's elements datatype to integer\n",
        "\n",
        "Note: use the same array from Q5.\n",
        "\n",
        "- Create a new array to hold the changes.\n",
        "- Print the new array.\n"
      ]
    },
    {
      "cell_type": "code",
      "execution_count": null,
      "id": "8135b045",
      "metadata": {
        "id": "8135b045",
        "outputId": "52b82f5a-5549-4d4d-9e9b-53563835c30f"
      },
      "outputs": [
        {
          "name": "stdout",
          "output_type": "stream",
          "text": [
            "[[[[ 1]\n",
            "   [ 2]\n",
            "   [ 3]]\n",
            "\n",
            "  [[ 4]\n",
            "   [ 5]\n",
            "   [ 6]]]\n",
            "\n",
            "\n",
            " [[[ 7]\n",
            "   [ 8]\n",
            "   [ 9]]\n",
            "\n",
            "  [[10]\n",
            "   [11]\n",
            "   [12]]]]\n",
            "int32\n"
          ]
        }
      ],
      "source": [
        "# write your code here ^_^\n",
        "\n",
        "arr = arr.astype(int)\n",
        "print(arr)\n",
        "print(arr.dtype)"
      ]
    },
    {
      "cell_type": "markdown",
      "id": "ab90badc",
      "metadata": {
        "id": "ab90badc"
      },
      "source": [
        "# Q7: Print all array's elements using for loop\n",
        "\n",
        "Note: use the same array from Q6.\n",
        "\n",
        "Hint: use nditer()\n"
      ]
    },
    {
      "cell_type": "code",
      "execution_count": null,
      "id": "a0d58d15",
      "metadata": {
        "id": "a0d58d15",
        "outputId": "f8aaea88-2f29-4501-b0d6-bb9bc4542662"
      },
      "outputs": [
        {
          "name": "stdout",
          "output_type": "stream",
          "text": [
            "1\n",
            "2\n",
            "3\n",
            "4\n",
            "5\n",
            "6\n",
            "7\n",
            "8\n",
            "9\n",
            "10\n",
            "11\n",
            "12\n"
          ]
        }
      ],
      "source": [
        "# write your code here ^_^\n",
        "\n",
        "for x in np.nditer(arr):\n",
        "    print(x)\n",
        "\n",
        "# and this is my first instinct before I read the hint:\n",
        "\n",
        "# for i in range(len(arr)):\n",
        "#     for j in range(len(arr[i])):\n",
        "#         print(arr[i][j])"
      ]
    },
    {
      "cell_type": "markdown",
      "id": "afa8b5f3",
      "metadata": {
        "id": "afa8b5f3"
      },
      "source": [
        "# Q8: Print number 8 using array slicing\n",
        "\n",
        "Note: use the same array from Q6.\n"
      ]
    },
    {
      "cell_type": "code",
      "execution_count": null,
      "id": "6e12e2d7",
      "metadata": {
        "id": "6e12e2d7",
        "outputId": "f7c84436-b49c-4356-d4a7-d0cf2e3a183d"
      },
      "outputs": [
        {
          "name": "stdout",
          "output_type": "stream",
          "text": [
            "[8]\n"
          ]
        }
      ],
      "source": [
        "# write your code here ^_^\n",
        "\n",
        "print(arr[1,0,1])"
      ]
    },
    {
      "cell_type": "markdown",
      "id": "e2e71895",
      "metadata": {
        "id": "e2e71895"
      },
      "source": [
        "# Q9: Print number 5 and number 6 using array slicing\n",
        "\n",
        "Note: use the same array from Q6.\n"
      ]
    },
    {
      "cell_type": "code",
      "execution_count": null,
      "id": "c3218bcb",
      "metadata": {
        "id": "c3218bcb",
        "outputId": "70828f61-6280-4003-8731-64f20f59bdf6"
      },
      "outputs": [
        {
          "name": "stdout",
          "output_type": "stream",
          "text": [
            "[5]\n",
            "[6]\n"
          ]
        }
      ],
      "source": [
        "# write your code here ^_^\n",
        "print(arr[0,1,1])\n",
        "print(arr[0,1,2])\n"
      ]
    },
    {
      "cell_type": "markdown",
      "id": "e5d63cd3",
      "metadata": {
        "id": "e5d63cd3"
      },
      "source": [
        "# Q10: Search for number 8 using where()\n",
        "\n",
        "Note: use the same array from Q6.\n",
        "\n",
        "Note: where() is only used with small data.\n",
        "\n",
        "_the output represents the path of the index that leads to number 8_\n"
      ]
    },
    {
      "cell_type": "code",
      "execution_count": null,
      "id": "ddaf0146",
      "metadata": {
        "id": "ddaf0146",
        "outputId": "7ae152df-b0c3-43db-c361-2369118e7848"
      },
      "outputs": [
        {
          "name": "stdout",
          "output_type": "stream",
          "text": [
            "(array([1], dtype=int64), array([0], dtype=int64), array([1], dtype=int64), array([0], dtype=int64))\n"
          ]
        }
      ],
      "source": [
        "# write your code here ^_^\n",
        "\n",
        "# i'm not sure if this is the right way to do it, but i can see that it returns the indices of lists leading to the value 8\n",
        "# so i guess it's correct.\n",
        "print(np.where(arr == 8))"
      ]
    },
    {
      "cell_type": "markdown",
      "id": "c89f41ad",
      "metadata": {
        "id": "c89f41ad"
      },
      "source": [
        "# Q11: Reshape the array as the following\n",
        "\n",
        "    array([[[ 1, 2],\n",
        "            [ 3,  4],\n",
        "            [ 5,  6]],\n",
        "\n",
        "           [[ 7,  8],\n",
        "            [ 9, 10],\n",
        "            [11, 12]]])\n",
        "\n",
        "\n",
        "Note: use the same array from Q6.\n"
      ]
    },
    {
      "cell_type": "code",
      "execution_count": null,
      "id": "d9b632bd",
      "metadata": {
        "id": "d9b632bd",
        "outputId": "f51dda9b-4dd4-4acd-b4fd-c9ec14862c8b"
      },
      "outputs": [
        {
          "name": "stdout",
          "output_type": "stream",
          "text": [
            "[[[ 1  2]\n",
            "  [ 3  4]\n",
            "  [ 5  6]]\n",
            "\n",
            " [[ 7  8]\n",
            "  [ 9 10]\n",
            "  [11 12]]]\n"
          ]
        }
      ],
      "source": [
        "# write your code here ^_^\n",
        "arr = arr.reshape(2,3,2)\n",
        "print(arr)"
      ]
    },
    {
      "cell_type": "markdown",
      "id": "539c16b1",
      "metadata": {
        "id": "539c16b1"
      },
      "source": [
        "# Q12: Join the given arrays below\n",
        "\n",
        "    arr1 = np.array([['A', 'B'], ['E', 'F']])\n",
        "    arr2 = np.array([['C', 'D'], ['G', 'H']])\n",
        "\n",
        "## Q12.1: Join the arrays without specifying the axis\n"
      ]
    },
    {
      "cell_type": "code",
      "execution_count": null,
      "id": "d6acdeaf",
      "metadata": {
        "id": "d6acdeaf",
        "outputId": "c63f073d-941b-4653-8866-95ebc5817ba8"
      },
      "outputs": [
        {
          "name": "stdout",
          "output_type": "stream",
          "text": [
            "[['A' 'B']\n",
            " ['E' 'F']\n",
            " ['C' 'D']\n",
            " ['G' 'H']]\n"
          ]
        }
      ],
      "source": [
        "# write your code here ^_^\n",
        "arr1 = np.array([['A', 'B'], ['E', 'F']])\n",
        "arr2 = np.array([['C', 'D'], ['G', 'H']])\n",
        "arr3 = np.concatenate((arr1, arr2), axis=0)\n",
        "print(arr3)"
      ]
    },
    {
      "cell_type": "markdown",
      "id": "1a37dd47",
      "metadata": {
        "id": "1a37dd47"
      },
      "source": [
        "# Q12.2: Join the arrays along rows with axis = 1\n"
      ]
    },
    {
      "cell_type": "code",
      "execution_count": null,
      "id": "b849658c",
      "metadata": {
        "id": "b849658c",
        "outputId": "ead2d523-0235-48db-bbde-33d69948f15a"
      },
      "outputs": [
        {
          "name": "stdout",
          "output_type": "stream",
          "text": [
            "[['A' 'B' 'C' 'D']\n",
            " ['E' 'F' 'G' 'H']]\n"
          ]
        }
      ],
      "source": [
        "# write your code here ^_^\n",
        "arr4 = np.concatenate((arr1, arr2), axis=1)\n",
        "print(arr4)"
      ]
    },
    {
      "cell_type": "markdown",
      "id": "7296eecf",
      "metadata": {
        "id": "7296eecf"
      },
      "source": [
        "# Q13: Split the array into two arrays with axis = 1, each array should contain four arrays.\n",
        "\n",
        "Note: use the same array from Q12.1\n"
      ]
    },
    {
      "cell_type": "code",
      "execution_count": null,
      "id": "7f7f5e49",
      "metadata": {
        "id": "7f7f5e49",
        "outputId": "3c04bc84-45f6-4c21-d74c-c5fac87be4a0"
      },
      "outputs": [
        {
          "name": "stdout",
          "output_type": "stream",
          "text": [
            "[['A']\n",
            " ['E']\n",
            " ['C']\n",
            " ['G']]\n",
            "[['B']\n",
            " ['F']\n",
            " ['D']\n",
            " ['H']]\n"
          ]
        }
      ],
      "source": [
        "# write your code here ^_^\n",
        "arr4, arr5 = np.split(arr3,2, axis = 1)\n",
        "print(arr4)\n",
        "print(arr5)"
      ]
    }
  ],
  "metadata": {
    "colab": {
      "provenance": []
    },
    "kernelspec": {
      "display_name": ".venv",
      "language": "python",
      "name": "python3"
    },
    "language_info": {
      "codemirror_mode": {
        "name": "ipython",
        "version": 3
      },
      "file_extension": ".py",
      "mimetype": "text/x-python",
      "name": "python",
      "nbconvert_exporter": "python",
      "pygments_lexer": "ipython3",
      "version": "3.10.11"
    }
  },
  "nbformat": 4,
  "nbformat_minor": 5
}